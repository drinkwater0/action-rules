{
 "cells": [
  {
   "cell_type": "markdown",
   "id": "adacc86e60e3216a",
   "metadata": {},
   "source": "# High-Utility Action Rules Mining Example"
  },
  {
   "cell_type": "markdown",
   "id": "48fddbaddd90bf29",
   "metadata": {},
   "source": [
    "### Import Module"
   ]
  },
  {
   "cell_type": "code",
   "id": "a57944de-7a93-4932-88c1-a000f27d8005",
   "metadata": {
    "ExecuteTime": {
     "end_time": "2025-02-22T23:23:56.944180Z",
     "start_time": "2025-02-22T23:23:56.939764Z"
    }
   },
   "source": [
    "from action_rules import ActionRules"
   ],
   "outputs": [],
   "execution_count": 1
  },
  {
   "cell_type": "markdown",
   "id": "bc3bd46ed322a836",
   "metadata": {},
   "source": [
    "### Import Data\n",
    "\n",
    "The aim of this example is to find actions that increase the probability that employees do not leave the company. We are interested in all rules that have a utility over -300 ($minutil = -300$)."
   ]
  },
  {
   "cell_type": "code",
   "id": "14cd2938448b07f8",
   "metadata": {
    "ExecuteTime": {
     "end_time": "2025-02-22T23:23:57.212001Z",
     "start_time": "2025-02-22T23:23:56.988151Z"
    }
   },
   "source": [
    "import pandas as pd\n",
    "# Data\n",
    "data = pd.read_csv(\"data/attrition.csv\")\n",
    "data"
   ],
   "outputs": [
    {
     "data": {
      "text/plain": [
       "   TID Department  Salary  Attrition\n",
       "0    1      Sales  Medium      False\n",
       "1    2        R&D  Medium      False\n",
       "2    3        R&D  Medium       True\n",
       "3    4        R&D  Medium       True\n",
       "4    5      Sales     Low      False\n",
       "5    6        R&D    High      False\n",
       "6    7        R&D    High      False\n",
       "7    8        R&D    High       True"
      ],
      "text/html": [
       "<div>\n",
       "<style scoped>\n",
       "    .dataframe tbody tr th:only-of-type {\n",
       "        vertical-align: middle;\n",
       "    }\n",
       "\n",
       "    .dataframe tbody tr th {\n",
       "        vertical-align: top;\n",
       "    }\n",
       "\n",
       "    .dataframe thead th {\n",
       "        text-align: right;\n",
       "    }\n",
       "</style>\n",
       "<table border=\"1\" class=\"dataframe\">\n",
       "  <thead>\n",
       "    <tr style=\"text-align: right;\">\n",
       "      <th></th>\n",
       "      <th>TID</th>\n",
       "      <th>Department</th>\n",
       "      <th>Salary</th>\n",
       "      <th>Attrition</th>\n",
       "    </tr>\n",
       "  </thead>\n",
       "  <tbody>\n",
       "    <tr>\n",
       "      <th>0</th>\n",
       "      <td>1</td>\n",
       "      <td>Sales</td>\n",
       "      <td>Medium</td>\n",
       "      <td>False</td>\n",
       "    </tr>\n",
       "    <tr>\n",
       "      <th>1</th>\n",
       "      <td>2</td>\n",
       "      <td>R&amp;D</td>\n",
       "      <td>Medium</td>\n",
       "      <td>False</td>\n",
       "    </tr>\n",
       "    <tr>\n",
       "      <th>2</th>\n",
       "      <td>3</td>\n",
       "      <td>R&amp;D</td>\n",
       "      <td>Medium</td>\n",
       "      <td>True</td>\n",
       "    </tr>\n",
       "    <tr>\n",
       "      <th>3</th>\n",
       "      <td>4</td>\n",
       "      <td>R&amp;D</td>\n",
       "      <td>Medium</td>\n",
       "      <td>True</td>\n",
       "    </tr>\n",
       "    <tr>\n",
       "      <th>4</th>\n",
       "      <td>5</td>\n",
       "      <td>Sales</td>\n",
       "      <td>Low</td>\n",
       "      <td>False</td>\n",
       "    </tr>\n",
       "    <tr>\n",
       "      <th>5</th>\n",
       "      <td>6</td>\n",
       "      <td>R&amp;D</td>\n",
       "      <td>High</td>\n",
       "      <td>False</td>\n",
       "    </tr>\n",
       "    <tr>\n",
       "      <th>6</th>\n",
       "      <td>7</td>\n",
       "      <td>R&amp;D</td>\n",
       "      <td>High</td>\n",
       "      <td>False</td>\n",
       "    </tr>\n",
       "    <tr>\n",
       "      <th>7</th>\n",
       "      <td>8</td>\n",
       "      <td>R&amp;D</td>\n",
       "      <td>High</td>\n",
       "      <td>True</td>\n",
       "    </tr>\n",
       "  </tbody>\n",
       "</table>\n",
       "</div>"
      ]
     },
     "execution_count": 2,
     "metadata": {},
     "output_type": "execute_result"
    }
   ],
   "execution_count": 2
  },
  {
   "metadata": {
    "ExecuteTime": {
     "end_time": "2025-02-22T23:23:57.314691Z",
     "start_time": "2025-02-22T23:23:57.312406Z"
    }
   },
   "cell_type": "code",
   "source": [
    "intrinsic_table = {\n",
    "    ('Salary', 'Low'): -300.0,\n",
    "    ('Salary', 'Medium'): -500.0,\n",
    "    ('Salary', 'High'): -1000.0,\n",
    "    ('Attrition', 'False'): 700.0,\n",
    "    ('Attrition', 'True'): 0.0,\n",
    "}\n",
    "# cost per transition\n",
    "transition_table = {\n",
    "    ('Salary', 'Low', 'Medium'): -1.5,\n",
    "    ('Salary', 'Low', 'High'): -3.5,\n",
    "    ('Salary', 'Medium', 'High'): -1.3,\n",
    "}"
   ],
   "id": "d788dfb1499685c9",
   "outputs": [],
   "execution_count": 3
  },
  {
   "cell_type": "markdown",
   "id": "6d5597e733ed9fdc",
   "metadata": {},
   "source": "### Initialize ActionRules Miner with Parameters"
  },
  {
   "metadata": {},
   "cell_type": "markdown",
   "source": "Utility parameters: intrinsic_utility_table, transition_utility_table",
   "id": "f14e87f1d84ad23f"
  },
  {
   "cell_type": "code",
   "id": "5ac76b85640676d8",
   "metadata": {
    "ExecuteTime": {
     "end_time": "2025-02-22T23:23:57.344342Z",
     "start_time": "2025-02-22T23:23:57.341467Z"
    }
   },
   "source": [
    "# Parameters\n",
    "stable_attributes = ['Department']\n",
    "flexible_attributes = ['Salary']\n",
    "target = 'Attrition'\n",
    "min_stable_attributes = 0\n",
    "min_flexible_attributes = 1 #min 1\n",
    "min_undesired_support = 25\n",
    "min_undesired_confidence = 0.6 #min 0.5\n",
    "min_desired_support = 25\n",
    "min_desired_confidence = 0.6 #min 0.5\n",
    "undesired_state = 'True'\n",
    "desired_state = 'False'\n",
    "# Action Rules Mining\n",
    "action_rules = ActionRules(\n",
    "    min_stable_attributes=min_stable_attributes,\n",
    "    min_flexible_attributes=min_flexible_attributes,\n",
    "    min_undesired_support=min_undesired_support,\n",
    "    min_undesired_confidence=min_undesired_confidence,\n",
    "    min_desired_support=min_desired_support,\n",
    "    min_desired_confidence=min_desired_confidence,\n",
    "    intrinsic_utility_table=intrinsic_table,\n",
    "    transition_utility_table=transition_table,\n",
    ")"
   ],
   "outputs": [],
   "execution_count": 4
  },
  {
   "cell_type": "markdown",
   "id": "7d175ff277ece815",
   "metadata": {},
   "source": [
    "### Train the Model"
   ]
  },
  {
   "cell_type": "code",
   "id": "2947b116-81fb-4c57-9e04-bbfcc25e36cf",
   "metadata": {
    "ExecuteTime": {
     "end_time": "2025-02-22T23:23:57.417565Z",
     "start_time": "2025-02-22T23:23:57.410484Z"
    }
   },
   "source": [
    "action_rules.fit(\n",
    "    data=data,\n",
    "    stable_attributes=stable_attributes,\n",
    "    flexible_attributes=flexible_attributes,\n",
    "    target=target,\n",
    "    target_undesired_state=undesired_state,\n",
    "    target_desired_state=desired_state,\n",
    "    use_sparse_matrix=False,\n",
    "    use_gpu=False,\n",
    ")"
   ],
   "outputs": [],
   "execution_count": 5
  },
  {
   "cell_type": "markdown",
   "id": "4c9869f13d17a6a3",
   "metadata": {},
   "source": [
    "### Print Action Rules"
   ]
  },
  {
   "cell_type": "code",
   "id": "a9551f74-abd4-460b-ad55-2bc10d2c095b",
   "metadata": {
    "ExecuteTime": {
     "end_time": "2025-02-22T23:23:57.501022Z",
     "start_time": "2025-02-22T23:23:57.497302Z"
    }
   },
   "source": [
    "len(action_rules.get_rules().get_ar_notation())"
   ],
   "outputs": [
    {
     "data": {
      "text/plain": [
       "0"
      ]
     },
     "execution_count": 6,
     "metadata": {},
     "output_type": "execute_result"
    }
   ],
   "execution_count": 6
  },
  {
   "cell_type": "code",
   "id": "9b161fde66cd0e3",
   "metadata": {
    "ExecuteTime": {
     "end_time": "2025-02-22T23:23:57.547424Z",
     "start_time": "2025-02-22T23:23:57.544895Z"
    }
   },
   "source": [
    "# Print rules\n",
    "for action_rule in action_rules.get_rules().get_ar_notation():\n",
    "    print(action_rule)"
   ],
   "outputs": [],
   "execution_count": 7
  },
  {
   "cell_type": "code",
   "id": "995f3d06d33f705c",
   "metadata": {
    "ExecuteTime": {
     "end_time": "2025-02-22T23:23:57.643544Z",
     "start_time": "2025-02-22T23:23:57.640967Z"
    }
   },
   "source": [
    "for action_rule in action_rules.get_rules().get_pretty_ar_notation():\n",
    "    print(action_rule)"
   ],
   "outputs": [],
   "execution_count": 8
  },
  {
   "cell_type": "code",
   "id": "a49fcab4f86fadf9",
   "metadata": {
    "ExecuteTime": {
     "end_time": "2025-02-22T23:23:57.692316Z",
     "start_time": "2025-02-22T23:23:57.689944Z"
    }
   },
   "source": [
    "export = action_rules.get_rules().get_export_notation()\n",
    "print(export)"
   ],
   "outputs": [
    {
     "name": "stdout",
     "output_type": "stream",
     "text": [
      "[]\n"
     ]
    }
   ],
   "execution_count": 9
  }
 ],
 "metadata": {
  "kernelspec": {
   "display_name": "Python 3 (ipykernel)",
   "language": "python",
   "name": "python3"
  },
  "language_info": {
   "codemirror_mode": {
    "name": "ipython",
    "version": 3
   },
   "file_extension": ".py",
   "mimetype": "text/x-python",
   "name": "python",
   "nbconvert_exporter": "python",
   "pygments_lexer": "ipython3",
   "version": "3.12.3"
  }
 },
 "nbformat": 4,
 "nbformat_minor": 5
}
