{
 "cells": [
  {
   "cell_type": "markdown",
   "id": "adacc86e60e3216a",
   "metadata": {},
   "source": "# High-Utility Action Rules Mining Example"
  },
  {
   "cell_type": "markdown",
   "id": "48fddbaddd90bf29",
   "metadata": {},
   "source": [
    "### Import Module"
   ]
  },
  {
   "cell_type": "code",
   "id": "a57944de-7a93-4932-88c1-a000f27d8005",
   "metadata": {
    "ExecuteTime": {
     "end_time": "2025-02-23T09:51:53.286218Z",
     "start_time": "2025-02-23T09:51:53.283275Z"
    }
   },
   "source": [
    "from action_rules import ActionRules"
   ],
   "outputs": [],
   "execution_count": 19
  },
  {
   "cell_type": "markdown",
   "id": "bc3bd46ed322a836",
   "metadata": {},
   "source": [
    "### Import Data\n",
    "\n",
    "The aim of this example is to find actions that increase the probability that employees do not leave the company."
   ]
  },
  {
   "cell_type": "code",
   "id": "14cd2938448b07f8",
   "metadata": {
    "ExecuteTime": {
     "end_time": "2025-02-23T09:51:53.320063Z",
     "start_time": "2025-02-23T09:51:53.297844Z"
    }
   },
   "source": [
    "import pandas as pd\n",
    "# Data\n",
    "data = pd.read_csv(\"data/attrition.csv\")\n",
    "data"
   ],
   "outputs": [
    {
     "data": {
      "text/plain": [
       "   TID Department  Salary  Attrition\n",
       "0    1      Sales  Medium      False\n",
       "1    2        R&D  Medium      False\n",
       "2    3        R&D  Medium       True\n",
       "3    4        R&D  Medium       True\n",
       "4    5      Sales     Low      False\n",
       "5    6        R&D    High      False\n",
       "6    7        R&D    High      False\n",
       "7    8        R&D    High       True"
      ],
      "text/html": [
       "<div>\n",
       "<style scoped>\n",
       "    .dataframe tbody tr th:only-of-type {\n",
       "        vertical-align: middle;\n",
       "    }\n",
       "\n",
       "    .dataframe tbody tr th {\n",
       "        vertical-align: top;\n",
       "    }\n",
       "\n",
       "    .dataframe thead th {\n",
       "        text-align: right;\n",
       "    }\n",
       "</style>\n",
       "<table border=\"1\" class=\"dataframe\">\n",
       "  <thead>\n",
       "    <tr style=\"text-align: right;\">\n",
       "      <th></th>\n",
       "      <th>TID</th>\n",
       "      <th>Department</th>\n",
       "      <th>Salary</th>\n",
       "      <th>Attrition</th>\n",
       "    </tr>\n",
       "  </thead>\n",
       "  <tbody>\n",
       "    <tr>\n",
       "      <th>0</th>\n",
       "      <td>1</td>\n",
       "      <td>Sales</td>\n",
       "      <td>Medium</td>\n",
       "      <td>False</td>\n",
       "    </tr>\n",
       "    <tr>\n",
       "      <th>1</th>\n",
       "      <td>2</td>\n",
       "      <td>R&amp;D</td>\n",
       "      <td>Medium</td>\n",
       "      <td>False</td>\n",
       "    </tr>\n",
       "    <tr>\n",
       "      <th>2</th>\n",
       "      <td>3</td>\n",
       "      <td>R&amp;D</td>\n",
       "      <td>Medium</td>\n",
       "      <td>True</td>\n",
       "    </tr>\n",
       "    <tr>\n",
       "      <th>3</th>\n",
       "      <td>4</td>\n",
       "      <td>R&amp;D</td>\n",
       "      <td>Medium</td>\n",
       "      <td>True</td>\n",
       "    </tr>\n",
       "    <tr>\n",
       "      <th>4</th>\n",
       "      <td>5</td>\n",
       "      <td>Sales</td>\n",
       "      <td>Low</td>\n",
       "      <td>False</td>\n",
       "    </tr>\n",
       "    <tr>\n",
       "      <th>5</th>\n",
       "      <td>6</td>\n",
       "      <td>R&amp;D</td>\n",
       "      <td>High</td>\n",
       "      <td>False</td>\n",
       "    </tr>\n",
       "    <tr>\n",
       "      <th>6</th>\n",
       "      <td>7</td>\n",
       "      <td>R&amp;D</td>\n",
       "      <td>High</td>\n",
       "      <td>False</td>\n",
       "    </tr>\n",
       "    <tr>\n",
       "      <th>7</th>\n",
       "      <td>8</td>\n",
       "      <td>R&amp;D</td>\n",
       "      <td>High</td>\n",
       "      <td>True</td>\n",
       "    </tr>\n",
       "  </tbody>\n",
       "</table>\n",
       "</div>"
      ]
     },
     "execution_count": 20,
     "metadata": {},
     "output_type": "execute_result"
    }
   ],
   "execution_count": 20
  },
  {
   "metadata": {},
   "cell_type": "markdown",
   "source": "## Utility Tables",
   "id": "42cec06723ccafbc"
  },
  {
   "metadata": {
    "ExecuteTime": {
     "end_time": "2025-02-23T09:51:53.373922Z",
     "start_time": "2025-02-23T09:51:53.371635Z"
    }
   },
   "cell_type": "code",
   "source": [
    "intrinsic_table = {\n",
    "    ('Salary', 'Low'): -300.0,\n",
    "    ('Salary', 'Medium'): -500.0,\n",
    "    ('Salary', 'High'): -1000.0,\n",
    "    ('Attrition', 'False'): 700.0,\n",
    "    ('Attrition', 'True'): 0.0,\n",
    "}\n",
    "# cost per transition\n",
    "transition_table = {\n",
    "    ('Salary', 'Low', 'Medium'): -2.0,\n",
    "    ('Salary', 'Low', 'High'): -4.0,\n",
    "    ('Salary', 'Medium', 'High'): -2.5,\n",
    "}"
   ],
   "id": "d788dfb1499685c9",
   "outputs": [],
   "execution_count": 21
  },
  {
   "metadata": {},
   "cell_type": "markdown",
   "source": [
    "### Explanation of Utility Tables\n",
    "\n",
    "The **intrinsic_utility_table** and **transition_utility_table** are two key inputs for high-utility action rule mining. They define, respectively, the inherent value (or cost) of having a particular attribute value and the cost (or benefit) of changing an attribute value from one state to another.\n",
    "\n",
    "#### intrinsic_utility_table\n",
    "\n",
    "The intrinsic utility table assigns a utility value to each attribute–value pair. This value represents the inherent \"worth\" or \"cost\" associated with that specific state of an attribute. Typically:\n",
    "\n",
    "- **Positive utility values** indicate a benefit or gain.\n",
    "- **Negative utility values** indicate a cost or penalty.\n",
    "\n",
    "For example:\n",
    "- `('Salary', 'Low'): -300.0` means that having a low salary incurs a cost of 300 units.\n",
    "- `('Salary', 'Medium'): -500.0` means that a medium salary incurs a cost of 500 units.\n",
    "- `('Salary', 'High'): -1000.0` means that a high salary incurs a cost of 1000 units.\n",
    "- `('Attrition', 'False'): 700.0` means that the condition \"not leaving the company\" (Attrition False) has a benefit of 700 units.\n",
    "- `('Attrition', 'True'): 0.0` means that the condition \"leaving the company\" (Attrition True) has no benefit (or a cost of 0).\n",
    "\n",
    "In high-utility action rule mining, these intrinsic utilities are used to compute the overall utility of a rule before considering any changes (transitions).\n",
    "\n",
    "#### transition_utility_table\n",
    "\n",
    "The transition utility table specifies the cost or benefit of changing an attribute’s value from one state to another. These values capture the incremental effect (or cost) associated with a particular change in an attribute's state. For example:\n",
    "\n",
    "- `('Salary', 'Low', 'Medium'): -2.0` means that the cost of increasing a salary from Low to Medium is 2 units.\n",
    "- `('Salary', 'Low', 'High'): -4.0` means that the cost of increasing a salary from Low to High is 4 units.\n",
    "- `('Salary', 'Medium', 'High'): -2.5` means that the cost of increasing a salary from Medium to High is 2.5 units.\n",
    "\n",
    "These transition utilities are combined with the intrinsic utilities of the target states to determine the overall benefit (or cost) of performing an action that changes an attribute’s value.\n",
    "\n",
    "---\n",
    "\n",
    "Together, these tables allow the system to compute both:\n",
    "- **Base (Intrinsic) Utilities:** The inherent worth of a rule based on the states of its attributes.\n",
    "- **Transition Gains/Costs:** The additional effects of changing an attribute’s state, including any associated cost or benefit for modifying the target attribute.\n",
    "\n",
    "When combined with support and confidence measures from the mined rules, these utility values help determine which action rules are most profitable or cost-effective.\n"
   ],
   "id": "f3e89577d082851a"
  },
  {
   "cell_type": "markdown",
   "id": "6d5597e733ed9fdc",
   "metadata": {},
   "source": "### Initialize ActionRules Miner with Parameters"
  },
  {
   "metadata": {},
   "cell_type": "markdown",
   "source": "Utility parameters: intrinsic_utility_table, transition_utility_table",
   "id": "f14e87f1d84ad23f"
  },
  {
   "cell_type": "code",
   "id": "5ac76b85640676d8",
   "metadata": {
    "ExecuteTime": {
     "end_time": "2025-02-23T09:51:53.418832Z",
     "start_time": "2025-02-23T09:51:53.415339Z"
    }
   },
   "source": [
    "# Parameters\n",
    "stable_attributes = ['Department']\n",
    "flexible_attributes = ['Salary']\n",
    "target = 'Attrition'\n",
    "min_stable_attributes = 1\n",
    "min_flexible_attributes = 1 #min 1\n",
    "min_undesired_support = 2\n",
    "min_undesired_confidence = 0.6 #min 0.5\n",
    "min_desired_support = 2\n",
    "min_desired_confidence = 0.6 #min 0.5\n",
    "undesired_state = 'True'\n",
    "desired_state = 'False'\n",
    "# Action Rules Mining\n",
    "action_rules = ActionRules(\n",
    "    min_stable_attributes=min_stable_attributes,\n",
    "    min_flexible_attributes=min_flexible_attributes,\n",
    "    min_undesired_support=min_undesired_support,\n",
    "    min_undesired_confidence=min_undesired_confidence,\n",
    "    min_desired_support=min_desired_support,\n",
    "    min_desired_confidence=min_desired_confidence,\n",
    "    intrinsic_utility_table=intrinsic_table,\n",
    "    transition_utility_table=transition_table,\n",
    ")"
   ],
   "outputs": [],
   "execution_count": 22
  },
  {
   "cell_type": "markdown",
   "id": "7d175ff277ece815",
   "metadata": {},
   "source": [
    "### Train the Model"
   ]
  },
  {
   "cell_type": "code",
   "id": "2947b116-81fb-4c57-9e04-bbfcc25e36cf",
   "metadata": {
    "ExecuteTime": {
     "end_time": "2025-02-23T09:51:53.508905Z",
     "start_time": "2025-02-23T09:51:53.499797Z"
    }
   },
   "source": [
    "action_rules.fit(\n",
    "    data=data,\n",
    "    stable_attributes=stable_attributes,\n",
    "    flexible_attributes=flexible_attributes,\n",
    "    target=target,\n",
    "    target_undesired_state=undesired_state,\n",
    "    target_desired_state=desired_state,\n",
    "    use_sparse_matrix=False,\n",
    "    use_gpu=False,\n",
    ")"
   ],
   "outputs": [],
   "execution_count": 23
  },
  {
   "cell_type": "markdown",
   "id": "4c9869f13d17a6a3",
   "metadata": {},
   "source": "### Print Action Rules with Utility Metrics"
  },
  {
   "cell_type": "code",
   "id": "a9551f74-abd4-460b-ad55-2bc10d2c095b",
   "metadata": {
    "ExecuteTime": {
     "end_time": "2025-02-23T09:51:53.619949Z",
     "start_time": "2025-02-23T09:51:53.616871Z"
    }
   },
   "source": [
    "len(action_rules.get_rules().get_ar_notation())"
   ],
   "outputs": [
    {
     "data": {
      "text/plain": [
       "1"
      ]
     },
     "execution_count": 24,
     "metadata": {},
     "output_type": "execute_result"
    }
   ],
   "execution_count": 24
  },
  {
   "cell_type": "code",
   "id": "9b161fde66cd0e3",
   "metadata": {
    "ExecuteTime": {
     "end_time": "2025-02-23T09:51:53.669571Z",
     "start_time": "2025-02-23T09:51:53.666509Z"
    }
   },
   "source": [
    "# Print rules\n",
    "for action_rule in action_rules.get_rules().get_ar_notation():\n",
    "    print(action_rule)"
   ],
   "outputs": [
    {
     "name": "stdout",
     "output_type": "stream",
     "text": [
      "[(Department: R&D) ∧ (Salary: Medium → High)] ⇒ [Attrition: True → False], support of undesired part: 2, confidence of undesired part: 0.6666666666666666, support of desired part: 2, confidence of desired part: 0.6666666666666666, uplift: 0.12499999999999997, utility: {undesired_rule_utility: -500.0, desired_rule_utility: -300.0, rule_utility_difference: 200.0, transition_gain: -2.5, rule_utility_gain: 197.5, realistic_undesired_utility: -433.3333333333333, realistic_desired_utility: -366.6666666666667, realistic_rule_difference: 66.66666666666663, transition_gain_dataset: -7.5, realistic_rule_gain_dataset: 192.4999999999999}\n"
     ]
    }
   ],
   "execution_count": 25
  },
  {
   "cell_type": "code",
   "id": "995f3d06d33f705c",
   "metadata": {
    "ExecuteTime": {
     "end_time": "2025-02-23T09:51:53.719666Z",
     "start_time": "2025-02-23T09:51:53.717Z"
    }
   },
   "source": [
    "for action_rule in action_rules.get_rules().get_pretty_ar_notation():\n",
    "    print(action_rule)"
   ],
   "outputs": [
    {
     "name": "stdout",
     "output_type": "stream",
     "text": [
      "If attribute 'Department' is 'R&D', attribute 'Salary' value 'Medium' is changed to 'High', then 'Attrition' value 'True' is changed to 'False with uplift: 0.12499999999999997, support of undesired part: 2, confidence of undesired part: 0.6666666666666666, support of desired part: 2, confidence of desired part: 0.6666666666666666., base utilities: (undesired: -500.0, desired: -300.0, difference: 200.0), transition gain: -2.5, rule utility gain: 197.5, realistic utilities: (undesired: -433.3333333333333, desired: -366.6666666666667, difference: 66.66666666666663), dataset-level transition gain: -7.5, dataset-level rule gain: 192.4999999999999\n"
     ]
    }
   ],
   "execution_count": 26
  },
  {
   "cell_type": "code",
   "id": "a49fcab4f86fadf9",
   "metadata": {
    "ExecuteTime": {
     "end_time": "2025-02-23T09:51:53.771176Z",
     "start_time": "2025-02-23T09:51:53.767729Z"
    }
   },
   "source": [
    "export = action_rules.get_rules().get_export_notation()\n",
    "print(export)"
   ],
   "outputs": [
    {
     "name": "stdout",
     "output_type": "stream",
     "text": [
      "[{\"stable\": [{\"attribute\": \"Department\", \"value\": \"R&D\"}], \"flexible\": [{\"attribute\": \"Salary\", \"undesired\": \"Medium\", \"desired\": \"High\"}], \"target\": {\"attribute\": \"Attrition\", \"undesired\": \"True\", \"desired\": \"False\"}, \"support of undesired part\": 2, \"confidence of undesired part\": 0.6666666666666666, \"support of desired part\": 2, \"confidence of desired part\": 0.6666666666666666, \"uplift\": 0.12499999999999997, \"utility\": {\"undesired_rule_utility\": -500.0, \"desired_rule_utility\": -300.0, \"rule_utility_difference\": 200.0, \"transition_gain\": -2.5, \"rule_utility_gain\": 197.5, \"realistic_undesired_utility\": -433.3333333333333, \"realistic_desired_utility\": -366.6666666666667, \"realistic_rule_difference\": 66.66666666666663, \"transition_gain_dataset\": -7.5, \"realistic_rule_gain_dataset\": 192.4999999999999}}]\n"
     ]
    }
   ],
   "execution_count": 27
  },
  {
   "metadata": {},
   "cell_type": "markdown",
   "source": [
    "### Explanation of Utility Metrics in High-Utility Action Rule Mining\n",
    "\n",
    "Below are detailed explanations of the utility metrics used to evaluate the profitability of action rules. These metrics combine the intrinsic utilities of items with the gains or costs incurred by transitions (i.e., changes in attribute values). The formulas below are provided in LaTeX for clarity.\n",
    "\n",
    "---\n",
    "\n",
    "#### Base Utility Metrics\n",
    "\n",
    "Let:\n",
    "- $I_U$ be the set of item indices in the **undesired** rule’s itemset.\n",
    "- $I_D$ be the set of item indices in the **desired** rule’s itemset.\n",
    "- $u(i)$ denote the intrinsic utility of item $i$.\n",
    "- $u(\\text{target}_{\\text{undesired}})$ be the intrinsic utility of the undesired target state.\n",
    "- $u(\\text{target}_{\\text{desired}})$ be the intrinsic utility of the desired target state.\n",
    "- $T(i, j)$ denote the transition utility for changing from item $i$ to item $j$ (for flexible attributes).\n",
    "- $T(\\text{target}_{\\text{undesired}}, \\text{target}_{\\text{desired}})$ denote the transition utility for changing the target state.\n",
    "\n",
    "The base metrics are defined as follows:\n",
    "\n",
    "1. **Undesired Rule Utility ($U_{\\text{undesired}}$)**:\n",
    "   $$\n",
    "   U_{\\text{undesired}} = \\sum_{i \\in I_U} u(i) + u(\\text{target}_{\\text{undesired}})\n",
    "   $$\n",
    "   This is the total intrinsic utility of all items in the undesired rule’s itemset, plus the intrinsic utility of the undesired target state.\n",
    "\n",
    "2. **Desired Rule Utility ($U_{\\text{desired}}$)**:\n",
    "   $$\n",
    "   U_{\\text{desired}} = \\sum_{i \\in I_D} u(i) + u(\\text{target}_{\\text{desired}})\n",
    "   $$\n",
    "   This is the total intrinsic utility of all items in the desired rule’s itemset, plus the intrinsic utility of the desired target state.\n",
    "\n",
    "3. **Rule Utility Difference ($\\Delta U_{\\text{intr}}$)**:\n",
    "   $$\n",
    "   \\Delta U_{\\text{intr}} = U_{\\text{desired}} - U_{\\text{undesired}}\n",
    "   $$\n",
    "   This measures the net change in intrinsic utility when moving from the undesired to the desired rule.\n",
    "\n",
    "4. **Transition Gain ($G_{\\text{trans}}$)**:\n",
    "   $$\n",
    "   G_{\\text{trans}} = \\sum_{(i, j) \\in F} T(i, j) + T(\\text{target}_{\\text{undesired}}, \\text{target}_{\\text{desired}})\n",
    "   $$\n",
    "   where\n",
    "   $$\n",
    "   F = \\{(i,j) \\mid i \\in I_U,\\, j \\in I_D,\\, i \\neq j\\}.\n",
    "   $$\n",
    "   This is the additional utility (or cost) from the changes in flexible attributes, plus the gain (or cost) of transitioning the target state.\n",
    "\n",
    "5. **Overall Rule Utility Gain ($\\Delta U_{\\text{rule}}$)**:\n",
    "   $$\n",
    "   \\Delta U_{\\text{rule}} = \\Delta U_{\\text{intr}} + G_{\\text{trans}}\n",
    "   $$\n",
    "   This represents the net gain (or loss) when applying the action rule.\n",
    "\n",
    "---\n",
    "\n",
    "## Realistic (Confidence-Scaled) Utility Metrics\n",
    "\n",
    "Realistic metrics adjust the base metrics by incorporating the confidence of the rules. Let:\n",
    "- $c_u$ be the confidence of the undesired rule.\n",
    "- $s_u$ be the absolute support of the undesired rule.\n",
    "- $c_d$ be the confidence of the desired rule.\n",
    "- $U_{\\text{undesired}}$ and $U_{\\text{desired}}$ be as defined above.\n",
    "- $G_{\\text{trans}}$ be the base transition gain.\n",
    "\n",
    "Then, the realistic metrics are defined as follows:\n",
    "\n",
    "1. **Realistic Undesired Utility ($U_{\\text{undesired, realistic}}$)**:\n",
    "   $$\n",
    "   U_{\\text{undesired, realistic}} = c_u \\cdot U_{\\text{undesired}} + (1 - c_u) \\cdot U_{\\text{desired}}\n",
    "   $$\n",
    "   This reflects the effective undesired utility when accounting for the possibility that, even without any action, some instances might already exhibit the desired outcome.\n",
    "\n",
    "2. **Realistic Desired Utility ($U_{\\text{desired, realistic}}$)**:\n",
    "   $$\n",
    "   U_{\\text{desired, realistic}} = (1 - c_d) \\cdot U_{\\text{undesired}} + c_d \\cdot U_{\\text{desired}}\n",
    "   $$\n",
    "   This reflects the effective desired utility under the assumption that only a fraction $c_d$ of the instances transition as intended.\n",
    "\n",
    "3. **Realistic Rule Difference ($\\Delta U_{\\text{realistic}}$)**:\n",
    "   $$\n",
    "   \\Delta U_{\\text{realistic}} = U_{\\text{desired, realistic}} - U_{\\text{undesired, realistic}}\n",
    "   $$\n",
    "   This measures the net gain using the realistic (confidence-scaled) intrinsic utilities.\n",
    "\n",
    "4. **Dataset-Level Realistic Gain**:\n",
    "\n",
    "   First, estimate the effective number of transactions as:\n",
    "   $$\n",
    "   N_{\\text{eff}} = \\frac{s_u}{c_u} \\quad (\\text{if } c_u > 0)\n",
    "   $$\n",
    "\n",
    "   Then, the dataset-level realistic rule gain is:\n",
    "   $$\n",
    "   \\Delta U_{\\text{dataset, realistic}} = N_{\\text{eff}} \\cdot \\left(\\Delta U_{\\text{realistic}} + G_{\\text{trans}}\\right)\n",
    "   $$\n",
    "\n",
    "5. **Dataset-Level Transition Gain ($G_{\\text{trans, dataset}}$)**:\n",
    "   $$\n",
    "   G_{\\text{trans, dataset}} = N_{\\text{eff}} \\cdot G_{\\text{trans}}\n",
    "   $$\n",
    "   This scales the transition gain by the effective number of transactions.\n",
    "\n",
    "---\n",
    "\n",
    "These metrics provide a comprehensive assessment of an action rule's effectiveness by combining the intrinsic value of attribute states with the costs or benefits of making transitions, and then adjusting these measures by the confidence in the rule."
   ],
   "id": "d2cb5abd72db5fb2"
  }
 ],
 "metadata": {
  "kernelspec": {
   "display_name": "Python 3 (ipykernel)",
   "language": "python",
   "name": "python3"
  },
  "language_info": {
   "codemirror_mode": {
    "name": "ipython",
    "version": 3
   },
   "file_extension": ".py",
   "mimetype": "text/x-python",
   "name": "python",
   "nbconvert_exporter": "python",
   "pygments_lexer": "ipython3",
   "version": "3.12.3"
  }
 },
 "nbformat": 4,
 "nbformat_minor": 5
}
