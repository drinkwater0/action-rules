{
 "cells": [
  {
   "cell_type": "markdown",
   "id": "adacc86e60e3216a",
   "metadata": {},
   "source": [
    "# Action Rules Example"
   ]
  },
  {
   "cell_type": "markdown",
   "id": "48fddbaddd90bf29",
   "metadata": {},
   "source": [
    "### Import Module"
   ]
  },
  {
   "cell_type": "code",
   "id": "a57944de-7a93-4932-88c1-a000f27d8005",
   "metadata": {
    "ExecuteTime": {
     "end_time": "2025-03-01T19:10:22.152388Z",
     "start_time": "2025-03-01T19:10:22.148269Z"
    }
   },
   "source": [
    "from action_rules import ActionRules"
   ],
   "outputs": [],
   "execution_count": 1
  },
  {
   "cell_type": "markdown",
   "id": "bc3bd46ed322a836",
   "metadata": {},
   "source": [
    "### Import Data\n",
    "\n",
    "The code example is based on data from the well-known Kaggle Titanic competition (https://www.kaggle.com/competitions/titanic), but it has been simplified to facilitate understanding and demonstration of the package's capabilities."
   ]
  },
  {
   "metadata": {
    "ExecuteTime": {
     "end_time": "2025-03-01T19:10:25.069259Z",
     "start_time": "2025-03-01T19:10:24.850724Z"
    }
   },
   "cell_type": "code",
   "source": [
    "import pandas as pd\n",
    "# Data\n",
    "transactions = {'Sex': ['M', 'F', 'M', 'M', 'F', 'M', 'F'],\n",
    "                'Age': ['Y', 'Y', 'O', 'Y', 'Y', 'O', 'Y'],\n",
    "                'Class': ['1', '1', '2', '2', '1', '1', '2'],\n",
    "                'Embarked': ['S', 'C', 'S', 'C', 'S', 'C', 'C'],\n",
    "                'Survived': ['1', '1', '0', '0', '1', '1', '0'],\n",
    "               }\n",
    "data = pd.DataFrame.from_dict(transactions)"
   ],
   "id": "8427e079d0215739",
   "outputs": [],
   "execution_count": 2
  },
  {
   "cell_type": "markdown",
   "id": "6d5597e733ed9fdc",
   "metadata": {},
   "source": [
    "### Initialize ActionRules Miner with Parameters"
   ]
  },
  {
   "cell_type": "markdown",
   "id": "436f757e-62a1-4ad1-b559-815477483b4c",
   "metadata": {},
   "source": [
    "The ActionRules miner is initialized with verbose=True, enabling users to observe detailed output during the execution of the Action-Apriori algorithm (method fit). This setting allows users to see all the support values that are calculated throughout the mining process, providing greater transparency and insight into how the algorithm derives the final action rules."
   ]
  },
  {
   "cell_type": "code",
   "id": "5ac76b85640676d8",
   "metadata": {
    "ExecuteTime": {
     "end_time": "2025-03-01T19:10:28.397136Z",
     "start_time": "2025-03-01T19:10:28.393750Z"
    }
   },
   "source": [
    "# Parameters\n",
    "stable_attributes = ['Age', 'Sex']\n",
    "flexible_attributes = ['Embarked', 'Class']\n",
    "target = 'Survived'\n",
    "min_stable_attributes = 2\n",
    "min_flexible_attributes = 1 #min 1\n",
    "min_undesired_support = 1\n",
    "min_undesired_confidence = 0.5 #min 0.5\n",
    "min_desired_support = 1\n",
    "min_desired_confidence = 0.5 #min 0.5\n",
    "undesired_state = '0'\n",
    "desired_state = '1'\n",
    "# Action Rules Mining\n",
    "action_rules = ActionRules(\n",
    "    min_stable_attributes=min_stable_attributes,\n",
    "    min_flexible_attributes=min_flexible_attributes,\n",
    "    min_undesired_support=min_undesired_support,\n",
    "    min_undesired_confidence=min_undesired_confidence,\n",
    "    min_desired_support=min_desired_support,\n",
    "    min_desired_confidence=min_desired_confidence,\n",
    "    verbose=True\n",
    ")"
   ],
   "outputs": [],
   "execution_count": 3
  },
  {
   "cell_type": "markdown",
   "id": "7d175ff277ece815",
   "metadata": {},
   "source": [
    "### Train the Model"
   ]
  },
  {
   "cell_type": "markdown",
   "id": "72263900-4f25-4405-9bf7-3cf1401c8568",
   "metadata": {},
   "source": [
    "Use GPU acceleration."
   ]
  },
  {
   "cell_type": "code",
   "execution_count": 4,
   "id": "95705212-2dd5-4e86-9d74-7004e71b3d96",
   "metadata": {},
   "outputs": [
    {
     "name": "stdout",
     "output_type": "stream",
     "text": [
      "Wed Jul 31 22:03:15 2024       \n",
      "+-----------------------------------------------------------------------------------------+\n",
      "| NVIDIA-SMI 555.42.06              Driver Version: 555.42.06      CUDA Version: 12.5     |\n",
      "|-----------------------------------------+------------------------+----------------------+\n",
      "| GPU  Name                 Persistence-M | Bus-Id          Disp.A | Volatile Uncorr. ECC |\n",
      "| Fan  Temp   Perf          Pwr:Usage/Cap |           Memory-Usage | GPU-Util  Compute M. |\n",
      "|                                         |                        |               MIG M. |\n",
      "|=========================================+========================+======================|\n",
      "|   0  Quadro M4000                   Off |   00000000:52:00.0  On |                  N/A |\n",
      "| 55%   68C    P0             47W /  120W |    1133MiB /   8192MiB |      4%      Default |\n",
      "|                                         |                        |                  N/A |\n",
      "+-----------------------------------------+------------------------+----------------------+\n",
      "                                                                                         \n",
      "+-----------------------------------------------------------------------------------------+\n",
      "| Processes:                                                                              |\n",
      "|  GPU   GI   CI        PID   Type   Process name                              GPU Memory |\n",
      "|        ID   ID                                                               Usage      |\n",
      "|=========================================================================================|\n",
      "|    0   N/A  N/A      3482      G   /usr/lib/xorg/Xorg                            359MiB |\n",
      "|    0   N/A  N/A      3664      G   /usr/bin/gnome-shell                          277MiB |\n",
      "|    0   N/A  N/A      4678      G   ...ures=SpareRendererForSitePerProcess         80MiB |\n",
      "|    0   N/A  N/A      5253      G   ...seed-version=20240729-050126.230000        283MiB |\n",
      "|    0   N/A  N/A    174632      G   ...AAAAAAAACAAAAAAAAAA= --shared-files         41MiB |\n",
      "|    0   N/A  N/A    178982      G   /home/lukas/anaconda3/bin/python                2MiB |\n",
      "|    0   N/A  N/A    179943      G   ...erProcess --variations-seed-version         75MiB |\n",
      "+-----------------------------------------------------------------------------------------+\n"
     ]
    }
   ],
   "source": [
    "! nvidia-smi"
   ]
  },
  {
   "cell_type": "code",
   "id": "2947b116-81fb-4c57-9e04-bbfcc25e36cf",
   "metadata": {
    "ExecuteTime": {
     "end_time": "2025-03-01T19:10:35.702338Z",
     "start_time": "2025-03-01T19:10:35.579896Z"
    }
   },
   "source": [
    "action_rules.fit(\n",
    "    data=data,\n",
    "    stable_attributes=stable_attributes,\n",
    "    flexible_attributes=flexible_attributes,\n",
    "    target=target,\n",
    "    target_undesired_state=undesired_state,\n",
    "    target_desired_state=desired_state,\n",
    "    use_sparse_matrix=True,\n",
    "    use_gpu=False,\n",
    ")"
   ],
   "outputs": [
    {
     "name": "stdout",
     "output_type": "stream",
     "text": [
      "Maximum number of nodes to check for support:\n",
      "_____________________________________________\n",
      "80\n",
      "\n",
      "SUPPORT for: (0,)\n",
      "_________________________________________________\n",
      "- extended by stable attribute\n",
      "undesired state support: 1\n",
      "desired state support: 1\n",
      "\n",
      "SUPPORT for: (1,)\n",
      "_________________________________________________\n",
      "- extended by stable attribute\n",
      "undesired state support: 2\n",
      "desired state support: 3\n",
      "\n",
      "SUPPORT for: (0, 2)\n",
      "_________________________________________________\n",
      "- extended by stable attribute\n",
      "undesired state support: 0\n",
      "desired state support: 0\n",
      "\n",
      "SUPPORT for: (0, 3)\n",
      "_________________________________________________\n",
      "- extended by stable attribute\n",
      "undesired state support: 1\n",
      "desired state support: 1\n",
      "\n",
      "SUPPORT for: (1, 2)\n",
      "_________________________________________________\n",
      "- extended by stable attribute\n",
      "undesired state support: 1\n",
      "desired state support: 2\n",
      "\n",
      "SUPPORT for: (1, 3)\n",
      "_________________________________________________\n",
      "- extended by stable attribute\n",
      "undesired state support: 1\n",
      "desired state support: 1\n",
      "\n",
      "SUPPORT for: (0, 3, 4)\n",
      "_________________________________________________\n",
      "- extended by flexible attribute\n",
      "undesired state support: 0\n",
      "desired state support: 1\n",
      "\n",
      "SUPPORT for: (0, 3, 5)\n",
      "_________________________________________________\n",
      "- extended by flexible attribute\n",
      "undesired state support: 1\n",
      "desired state support: 0\n",
      "\n",
      "SUPPORT for: (0, 3, 6)\n",
      "_________________________________________________\n",
      "- extended by flexible attribute\n",
      "undesired state support: 0\n",
      "desired state support: 1\n",
      "\n",
      "SUPPORT for: (0, 3, 7)\n",
      "_________________________________________________\n",
      "- extended by flexible attribute\n",
      "undesired state support: 1\n",
      "desired state support: 0\n",
      "\n",
      "SUPPORT for: (1, 2, 4)\n",
      "_________________________________________________\n",
      "- extended by flexible attribute\n",
      "undesired state support: 1\n",
      "desired state support: 1\n",
      "\n",
      "SUPPORT for: (1, 2, 5)\n",
      "_________________________________________________\n",
      "- extended by flexible attribute\n",
      "undesired state support: 0\n",
      "desired state support: 1\n",
      "\n",
      "SUPPORT for: (1, 2, 6)\n",
      "_________________________________________________\n",
      "- extended by flexible attribute\n",
      "undesired state support: 0\n",
      "desired state support: 2\n",
      "\n",
      "SUPPORT for: (1, 2, 7)\n",
      "_________________________________________________\n",
      "- extended by flexible attribute\n",
      "undesired state support: 1\n",
      "desired state support: 0\n",
      "\n",
      "SUPPORT for: (1, 3, 4)\n",
      "_________________________________________________\n",
      "- extended by flexible attribute\n",
      "undesired state support: 1\n",
      "desired state support: 0\n",
      "\n",
      "SUPPORT for: (1, 3, 5)\n",
      "_________________________________________________\n",
      "- extended by flexible attribute\n",
      "undesired state support: 0\n",
      "desired state support: 1\n",
      "\n",
      "SUPPORT for: (1, 3, 6)\n",
      "_________________________________________________\n",
      "- extended by flexible attribute\n",
      "undesired state support: 0\n",
      "desired state support: 1\n",
      "\n",
      "SUPPORT for: (1, 3, 7)\n",
      "_________________________________________________\n",
      "- extended by flexible attribute\n",
      "undesired state support: 1\n",
      "desired state support: 0\n",
      "\n",
      "SUPPORT for: (0, 3, 4, 6)\n",
      "_________________________________________________\n",
      "- extended by flexible attribute\n",
      "undesired state support: 0\n",
      "desired state support: 1\n",
      "\n",
      "SUPPORT for: (0, 3, 4, 7)\n",
      "_________________________________________________\n",
      "- extended by flexible attribute\n",
      "undesired state support: 0\n",
      "desired state support: 0\n",
      "\n",
      "SUPPORT for: (0, 3, 5, 6)\n",
      "_________________________________________________\n",
      "- extended by flexible attribute\n",
      "undesired state support: 0\n",
      "desired state support: 0\n",
      "\n",
      "SUPPORT for: (0, 3, 5, 7)\n",
      "_________________________________________________\n",
      "- extended by flexible attribute\n",
      "undesired state support: 1\n",
      "desired state support: 0\n",
      "\n",
      "SUPPORT for: (1, 2, 4, 6)\n",
      "_________________________________________________\n",
      "- extended by flexible attribute\n",
      "undesired state support: 0\n",
      "desired state support: 1\n",
      "\n",
      "SUPPORT for: (1, 2, 4, 7)\n",
      "_________________________________________________\n",
      "- extended by flexible attribute\n",
      "undesired state support: 1\n",
      "desired state support: 0\n",
      "\n",
      "SUPPORT for: (1, 2, 5, 6)\n",
      "_________________________________________________\n",
      "- extended by flexible attribute\n",
      "undesired state support: 0\n",
      "desired state support: 1\n",
      "\n",
      "SUPPORT for: (1, 2, 5, 7)\n",
      "_________________________________________________\n",
      "- extended by flexible attribute\n",
      "undesired state support: 0\n",
      "desired state support: 0\n",
      "\n",
      "SUPPORT for: (1, 3, 4, 6)\n",
      "_________________________________________________\n",
      "- extended by flexible attribute\n",
      "undesired state support: 0\n",
      "desired state support: 0\n",
      "\n",
      "SUPPORT for: (1, 3, 4, 7)\n",
      "_________________________________________________\n",
      "- extended by flexible attribute\n",
      "undesired state support: 1\n",
      "desired state support: 0\n",
      "\n",
      "SUPPORT for: (1, 3, 5, 6)\n",
      "_________________________________________________\n",
      "- extended by flexible attribute\n",
      "undesired state support: 0\n",
      "desired state support: 1\n",
      "\n",
      "SUPPORT for: (1, 3, 5, 7)\n",
      "_________________________________________________\n",
      "- extended by flexible attribute\n",
      "undesired state support: 0\n",
      "desired state support: 0\n",
      "\n"
     ]
    }
   ],
   "execution_count": 4
  },
  {
   "cell_type": "markdown",
   "id": "4c9869f13d17a6a3",
   "metadata": {},
   "source": [
    "### Print Action Rules"
   ]
  },
  {
   "cell_type": "code",
   "id": "a9551f74-abd4-460b-ad55-2bc10d2c095b",
   "metadata": {
    "ExecuteTime": {
     "end_time": "2025-03-01T19:10:41.925078Z",
     "start_time": "2025-03-01T19:10:41.919068Z"
    }
   },
   "source": [
    "len(action_rules.get_rules().get_ar_notation())"
   ],
   "outputs": [
    {
     "data": {
      "text/plain": [
       "11"
      ]
     },
     "execution_count": 5,
     "metadata": {},
     "output_type": "execute_result"
    }
   ],
   "execution_count": 5
  },
  {
   "cell_type": "code",
   "id": "9b161fde66cd0e3",
   "metadata": {
    "ExecuteTime": {
     "end_time": "2025-03-01T19:10:44.943011Z",
     "start_time": "2025-03-01T19:10:44.939644Z"
    }
   },
   "source": [
    "# Print rules\n",
    "for action_rule in action_rules.get_rules().get_ar_notation():\n",
    "    print(action_rule)"
   ],
   "outputs": [
    {
     "name": "stdout",
     "output_type": "stream",
     "text": [
      "[(Age: O) ∧ (Sex: M) ∧ (Embarked: S → C)] ⇒ [Survived: 0 → 1], support of undesired part: 1, confidence of undesired part: 1.0, support of desired part: 1, confidence of desired part: 1.0, support: 1, confidence: 1.0, uplift: 0.14285714285714285, utility: {undesired_rule_utility: 0.0, desired_rule_utility: 0.0, rule_utility_difference: 0.0, transition_gain: 0.0, rule_utility_gain: 0.0, realistic_undesired_utility: 0.0, realistic_desired_utility: 0.0, realistic_rule_difference: 0.0, transition_gain_dataset: 0.0, realistic_rule_gain_dataset: 0.0}\n",
      "[(Age: O) ∧ (Sex: M) ∧ (Class: 2 → 1)] ⇒ [Survived: 0 → 1], support of undesired part: 1, confidence of undesired part: 1.0, support of desired part: 1, confidence of desired part: 1.0, support: 1, confidence: 1.0, uplift: 0.14285714285714285, utility: {undesired_rule_utility: 0.0, desired_rule_utility: 0.0, rule_utility_difference: 0.0, transition_gain: 0.0, rule_utility_gain: 0.0, realistic_undesired_utility: 0.0, realistic_desired_utility: 0.0, realistic_rule_difference: 0.0, transition_gain_dataset: 0.0, realistic_rule_gain_dataset: 0.0}\n",
      "[(Age: Y) ∧ (Sex: F) ∧ (Embarked*: C)] ⇒ [Survived: 0 → 1], support of undesired part: 1, confidence of undesired part: 0.5, support of desired part: 1, confidence of desired part: 0.5, support: 1, confidence: 0.25, uplift: 0.0, utility: {undesired_rule_utility: 0.0, desired_rule_utility: 0.0, rule_utility_difference: 0.0, transition_gain: 0.0, rule_utility_gain: 0.0, realistic_undesired_utility: 0.0, realistic_desired_utility: 0.0, realistic_rule_difference: 0.0, transition_gain_dataset: 0.0, realistic_rule_gain_dataset: 0.0}\n",
      "[(Age: Y) ∧ (Sex: F) ∧ (Embarked: C → S)] ⇒ [Survived: 0 → 1], support of undesired part: 1, confidence of undesired part: 0.5, support of desired part: 1, confidence of desired part: 1.0, support: 1, confidence: 0.5, uplift: 0.14285714285714285, utility: {undesired_rule_utility: 0.0, desired_rule_utility: 0.0, rule_utility_difference: 0.0, transition_gain: 0.0, rule_utility_gain: 0.0, realistic_undesired_utility: 0.0, realistic_desired_utility: 0.0, realistic_rule_difference: 0.0, transition_gain_dataset: 0.0, realistic_rule_gain_dataset: 0.0}\n",
      "[(Age: Y) ∧ (Sex: F) ∧ (Class: 2 → 1)] ⇒ [Survived: 0 → 1], support of undesired part: 1, confidence of undesired part: 1.0, support of desired part: 2, confidence of desired part: 1.0, support: 1, confidence: 1.0, uplift: 0.14285714285714285, utility: {undesired_rule_utility: 0.0, desired_rule_utility: 0.0, rule_utility_difference: 0.0, transition_gain: 0.0, rule_utility_gain: 0.0, realistic_undesired_utility: 0.0, realistic_desired_utility: 0.0, realistic_rule_difference: 0.0, transition_gain_dataset: 0.0, realistic_rule_gain_dataset: 0.0}\n",
      "[(Age: Y) ∧ (Sex: M) ∧ (Embarked: C → S)] ⇒ [Survived: 0 → 1], support of undesired part: 1, confidence of undesired part: 1.0, support of desired part: 1, confidence of desired part: 1.0, support: 1, confidence: 1.0, uplift: 0.14285714285714285, utility: {undesired_rule_utility: 0.0, desired_rule_utility: 0.0, rule_utility_difference: 0.0, transition_gain: 0.0, rule_utility_gain: 0.0, realistic_undesired_utility: 0.0, realistic_desired_utility: 0.0, realistic_rule_difference: 0.0, transition_gain_dataset: 0.0, realistic_rule_gain_dataset: 0.0}\n",
      "[(Age: Y) ∧ (Sex: M) ∧ (Class: 2 → 1)] ⇒ [Survived: 0 → 1], support of undesired part: 1, confidence of undesired part: 1.0, support of desired part: 1, confidence of desired part: 1.0, support: 1, confidence: 1.0, uplift: 0.14285714285714285, utility: {undesired_rule_utility: 0.0, desired_rule_utility: 0.0, rule_utility_difference: 0.0, transition_gain: 0.0, rule_utility_gain: 0.0, realistic_undesired_utility: 0.0, realistic_desired_utility: 0.0, realistic_rule_difference: 0.0, transition_gain_dataset: 0.0, realistic_rule_gain_dataset: 0.0}\n",
      "[(Age: O) ∧ (Sex: M) ∧ (Embarked: S → C) ∧ (Class: 2 → 1)] ⇒ [Survived: 0 → 1], support of undesired part: 1, confidence of undesired part: 1.0, support of desired part: 1, confidence of desired part: 1.0, support: 1, confidence: 1.0, uplift: 0.14285714285714285, utility: {undesired_rule_utility: 0.0, desired_rule_utility: 0.0, rule_utility_difference: 0.0, transition_gain: 0.0, rule_utility_gain: 0.0, realistic_undesired_utility: 0.0, realistic_desired_utility: 0.0, realistic_rule_difference: 0.0, transition_gain_dataset: 0.0, realistic_rule_gain_dataset: 0.0}\n",
      "[(Age: Y) ∧ (Sex: F) ∧ (Embarked*: C) ∧ (Class: 2 → 1)] ⇒ [Survived: 0 → 1], support of undesired part: 1, confidence of undesired part: 1.0, support of desired part: 1, confidence of desired part: 1.0, support: 1, confidence: 1.0, uplift: 0.14285714285714285, utility: {undesired_rule_utility: 0.0, desired_rule_utility: 0.0, rule_utility_difference: 0.0, transition_gain: 0.0, rule_utility_gain: 0.0, realistic_undesired_utility: 0.0, realistic_desired_utility: 0.0, realistic_rule_difference: 0.0, transition_gain_dataset: 0.0, realistic_rule_gain_dataset: 0.0}\n",
      "[(Age: Y) ∧ (Sex: F) ∧ (Embarked: C → S) ∧ (Class: 2 → 1)] ⇒ [Survived: 0 → 1], support of undesired part: 1, confidence of undesired part: 1.0, support of desired part: 1, confidence of desired part: 1.0, support: 1, confidence: 1.0, uplift: 0.14285714285714285, utility: {undesired_rule_utility: 0.0, desired_rule_utility: 0.0, rule_utility_difference: 0.0, transition_gain: 0.0, rule_utility_gain: 0.0, realistic_undesired_utility: 0.0, realistic_desired_utility: 0.0, realistic_rule_difference: 0.0, transition_gain_dataset: 0.0, realistic_rule_gain_dataset: 0.0}\n",
      "[(Age: Y) ∧ (Sex: M) ∧ (Embarked: C → S) ∧ (Class: 2 → 1)] ⇒ [Survived: 0 → 1], support of undesired part: 1, confidence of undesired part: 1.0, support of desired part: 1, confidence of desired part: 1.0, support: 1, confidence: 1.0, uplift: 0.14285714285714285, utility: {undesired_rule_utility: 0.0, desired_rule_utility: 0.0, rule_utility_difference: 0.0, transition_gain: 0.0, rule_utility_gain: 0.0, realistic_undesired_utility: 0.0, realistic_desired_utility: 0.0, realistic_rule_difference: 0.0, transition_gain_dataset: 0.0, realistic_rule_gain_dataset: 0.0}\n"
     ]
    }
   ],
   "execution_count": 6
  },
  {
   "cell_type": "code",
   "id": "995f3d06d33f705c",
   "metadata": {
    "ExecuteTime": {
     "end_time": "2025-03-01T19:10:52.272349Z",
     "start_time": "2025-03-01T19:10:52.268877Z"
    }
   },
   "source": [
    "for action_rule in action_rules.get_rules().get_pretty_ar_notation():\n",
    "    print(action_rule)"
   ],
   "outputs": [
    {
     "name": "stdout",
     "output_type": "stream",
     "text": [
      "If attribute 'Age' is 'O', attribute 'Sex' is 'M', attribute 'Embarked' value 'S' is changed to 'C', then 'Survived' value '0' is changed to '1 with support: 1, confidence: 1.0, uplift: 0.14285714285714285, support of undesired part: 1, confidence of undesired part: 1.0, support of desired part: 1, confidence of desired part: 1.0., base utilities: (undesired: 0.0, desired: 0.0, difference: 0.0), transition gain: 0.0, rule utility gain: 0.0, realistic utilities: (undesired: 0.0, desired: 0.0, difference: 0.0), dataset-level transition gain: 0.0, dataset-level rule gain: 0.0\n",
      "If attribute 'Age' is 'O', attribute 'Sex' is 'M', attribute 'Class' value '2' is changed to '1', then 'Survived' value '0' is changed to '1 with support: 1, confidence: 1.0, uplift: 0.14285714285714285, support of undesired part: 1, confidence of undesired part: 1.0, support of desired part: 1, confidence of desired part: 1.0., base utilities: (undesired: 0.0, desired: 0.0, difference: 0.0), transition gain: 0.0, rule utility gain: 0.0, realistic utilities: (undesired: 0.0, desired: 0.0, difference: 0.0), dataset-level transition gain: 0.0, dataset-level rule gain: 0.0\n",
      "If attribute 'Age' is 'Y', attribute 'Sex' is 'F', attribute (flexible is used as stable) 'Embarked' is 'C', then 'Survived' value '0' is changed to '1 with support: 1, confidence: 0.25, uplift: 0.0, support of undesired part: 1, confidence of undesired part: 0.5, support of desired part: 1, confidence of desired part: 0.5., base utilities: (undesired: 0.0, desired: 0.0, difference: 0.0), transition gain: 0.0, rule utility gain: 0.0, realistic utilities: (undesired: 0.0, desired: 0.0, difference: 0.0), dataset-level transition gain: 0.0, dataset-level rule gain: 0.0\n",
      "If attribute 'Age' is 'Y', attribute 'Sex' is 'F', attribute 'Embarked' value 'C' is changed to 'S', then 'Survived' value '0' is changed to '1 with support: 1, confidence: 0.5, uplift: 0.14285714285714285, support of undesired part: 1, confidence of undesired part: 0.5, support of desired part: 1, confidence of desired part: 1.0., base utilities: (undesired: 0.0, desired: 0.0, difference: 0.0), transition gain: 0.0, rule utility gain: 0.0, realistic utilities: (undesired: 0.0, desired: 0.0, difference: 0.0), dataset-level transition gain: 0.0, dataset-level rule gain: 0.0\n",
      "If attribute 'Age' is 'Y', attribute 'Sex' is 'F', attribute 'Class' value '2' is changed to '1', then 'Survived' value '0' is changed to '1 with support: 1, confidence: 1.0, uplift: 0.14285714285714285, support of undesired part: 1, confidence of undesired part: 1.0, support of desired part: 2, confidence of desired part: 1.0., base utilities: (undesired: 0.0, desired: 0.0, difference: 0.0), transition gain: 0.0, rule utility gain: 0.0, realistic utilities: (undesired: 0.0, desired: 0.0, difference: 0.0), dataset-level transition gain: 0.0, dataset-level rule gain: 0.0\n",
      "If attribute 'Age' is 'Y', attribute 'Sex' is 'M', attribute 'Embarked' value 'C' is changed to 'S', then 'Survived' value '0' is changed to '1 with support: 1, confidence: 1.0, uplift: 0.14285714285714285, support of undesired part: 1, confidence of undesired part: 1.0, support of desired part: 1, confidence of desired part: 1.0., base utilities: (undesired: 0.0, desired: 0.0, difference: 0.0), transition gain: 0.0, rule utility gain: 0.0, realistic utilities: (undesired: 0.0, desired: 0.0, difference: 0.0), dataset-level transition gain: 0.0, dataset-level rule gain: 0.0\n",
      "If attribute 'Age' is 'Y', attribute 'Sex' is 'M', attribute 'Class' value '2' is changed to '1', then 'Survived' value '0' is changed to '1 with support: 1, confidence: 1.0, uplift: 0.14285714285714285, support of undesired part: 1, confidence of undesired part: 1.0, support of desired part: 1, confidence of desired part: 1.0., base utilities: (undesired: 0.0, desired: 0.0, difference: 0.0), transition gain: 0.0, rule utility gain: 0.0, realistic utilities: (undesired: 0.0, desired: 0.0, difference: 0.0), dataset-level transition gain: 0.0, dataset-level rule gain: 0.0\n",
      "If attribute 'Age' is 'O', attribute 'Sex' is 'M', attribute 'Embarked' value 'S' is changed to 'C', attribute 'Class' value '2' is changed to '1', then 'Survived' value '0' is changed to '1 with support: 1, confidence: 1.0, uplift: 0.14285714285714285, support of undesired part: 1, confidence of undesired part: 1.0, support of desired part: 1, confidence of desired part: 1.0., base utilities: (undesired: 0.0, desired: 0.0, difference: 0.0), transition gain: 0.0, rule utility gain: 0.0, realistic utilities: (undesired: 0.0, desired: 0.0, difference: 0.0), dataset-level transition gain: 0.0, dataset-level rule gain: 0.0\n",
      "If attribute 'Age' is 'Y', attribute 'Sex' is 'F', attribute (flexible is used as stable) 'Embarked' is 'C', attribute 'Class' value '2' is changed to '1', then 'Survived' value '0' is changed to '1 with support: 1, confidence: 1.0, uplift: 0.14285714285714285, support of undesired part: 1, confidence of undesired part: 1.0, support of desired part: 1, confidence of desired part: 1.0., base utilities: (undesired: 0.0, desired: 0.0, difference: 0.0), transition gain: 0.0, rule utility gain: 0.0, realistic utilities: (undesired: 0.0, desired: 0.0, difference: 0.0), dataset-level transition gain: 0.0, dataset-level rule gain: 0.0\n",
      "If attribute 'Age' is 'Y', attribute 'Sex' is 'F', attribute 'Embarked' value 'C' is changed to 'S', attribute 'Class' value '2' is changed to '1', then 'Survived' value '0' is changed to '1 with support: 1, confidence: 1.0, uplift: 0.14285714285714285, support of undesired part: 1, confidence of undesired part: 1.0, support of desired part: 1, confidence of desired part: 1.0., base utilities: (undesired: 0.0, desired: 0.0, difference: 0.0), transition gain: 0.0, rule utility gain: 0.0, realistic utilities: (undesired: 0.0, desired: 0.0, difference: 0.0), dataset-level transition gain: 0.0, dataset-level rule gain: 0.0\n",
      "If attribute 'Age' is 'Y', attribute 'Sex' is 'M', attribute 'Embarked' value 'C' is changed to 'S', attribute 'Class' value '2' is changed to '1', then 'Survived' value '0' is changed to '1 with support: 1, confidence: 1.0, uplift: 0.14285714285714285, support of undesired part: 1, confidence of undesired part: 1.0, support of desired part: 1, confidence of desired part: 1.0., base utilities: (undesired: 0.0, desired: 0.0, difference: 0.0), transition gain: 0.0, rule utility gain: 0.0, realistic utilities: (undesired: 0.0, desired: 0.0, difference: 0.0), dataset-level transition gain: 0.0, dataset-level rule gain: 0.0\n"
     ]
    }
   ],
   "execution_count": 7
  },
  {
   "cell_type": "code",
   "id": "a49fcab4f86fadf9",
   "metadata": {
    "ExecuteTime": {
     "end_time": "2025-03-01T19:10:53.775001Z",
     "start_time": "2025-03-01T19:10:53.771448Z"
    }
   },
   "source": [
    "export = action_rules.get_rules().get_export_notation()\n",
    "print(export)"
   ],
   "outputs": [
    {
     "name": "stdout",
     "output_type": "stream",
     "text": [
      "[{\"stable\": [{\"attribute\": \"Age\", \"value\": \"O\"}, {\"attribute\": \"Sex\", \"value\": \"M\"}], \"flexible\": [{\"attribute\": \"Embarked\", \"undesired\": \"S\", \"desired\": \"C\"}], \"target\": {\"attribute\": \"Survived\", \"undesired\": \"0\", \"desired\": \"1\"}, \"support of undesired part\": 1, \"confidence of undesired part\": 1.0, \"support of desired part\": 1, \"confidence of desired part\": 1.0, \"uplift\": 0.14285714285714285, \"support\": 1, \"confidence\": 1.0, \"utility\": {\"undesired_rule_utility\": 0.0, \"desired_rule_utility\": 0.0, \"rule_utility_difference\": 0.0, \"transition_gain\": 0.0, \"rule_utility_gain\": 0.0, \"realistic_undesired_utility\": 0.0, \"realistic_desired_utility\": 0.0, \"realistic_rule_difference\": 0.0, \"transition_gain_dataset\": 0.0, \"realistic_rule_gain_dataset\": 0.0}}, {\"stable\": [{\"attribute\": \"Age\", \"value\": \"O\"}, {\"attribute\": \"Sex\", \"value\": \"M\"}], \"flexible\": [{\"attribute\": \"Class\", \"undesired\": \"2\", \"desired\": \"1\"}], \"target\": {\"attribute\": \"Survived\", \"undesired\": \"0\", \"desired\": \"1\"}, \"support of undesired part\": 1, \"confidence of undesired part\": 1.0, \"support of desired part\": 1, \"confidence of desired part\": 1.0, \"uplift\": 0.14285714285714285, \"support\": 1, \"confidence\": 1.0, \"utility\": {\"undesired_rule_utility\": 0.0, \"desired_rule_utility\": 0.0, \"rule_utility_difference\": 0.0, \"transition_gain\": 0.0, \"rule_utility_gain\": 0.0, \"realistic_undesired_utility\": 0.0, \"realistic_desired_utility\": 0.0, \"realistic_rule_difference\": 0.0, \"transition_gain_dataset\": 0.0, \"realistic_rule_gain_dataset\": 0.0}}, {\"stable\": [{\"attribute\": \"Age\", \"value\": \"Y\"}, {\"attribute\": \"Sex\", \"value\": \"F\"}, {\"attribute\": \"Embarked\", \"value\": \"C\", \"flexible_as_stable\": true}], \"flexible\": [], \"target\": {\"attribute\": \"Survived\", \"undesired\": \"0\", \"desired\": \"1\"}, \"support of undesired part\": 1, \"confidence of undesired part\": 0.5, \"support of desired part\": 1, \"confidence of desired part\": 0.5, \"uplift\": 0.0, \"support\": 1, \"confidence\": 0.25, \"utility\": {\"undesired_rule_utility\": 0.0, \"desired_rule_utility\": 0.0, \"rule_utility_difference\": 0.0, \"transition_gain\": 0.0, \"rule_utility_gain\": 0.0, \"realistic_undesired_utility\": 0.0, \"realistic_desired_utility\": 0.0, \"realistic_rule_difference\": 0.0, \"transition_gain_dataset\": 0.0, \"realistic_rule_gain_dataset\": 0.0}}, {\"stable\": [{\"attribute\": \"Age\", \"value\": \"Y\"}, {\"attribute\": \"Sex\", \"value\": \"F\"}], \"flexible\": [{\"attribute\": \"Embarked\", \"undesired\": \"C\", \"desired\": \"S\"}], \"target\": {\"attribute\": \"Survived\", \"undesired\": \"0\", \"desired\": \"1\"}, \"support of undesired part\": 1, \"confidence of undesired part\": 0.5, \"support of desired part\": 1, \"confidence of desired part\": 1.0, \"uplift\": 0.14285714285714285, \"support\": 1, \"confidence\": 0.5, \"utility\": {\"undesired_rule_utility\": 0.0, \"desired_rule_utility\": 0.0, \"rule_utility_difference\": 0.0, \"transition_gain\": 0.0, \"rule_utility_gain\": 0.0, \"realistic_undesired_utility\": 0.0, \"realistic_desired_utility\": 0.0, \"realistic_rule_difference\": 0.0, \"transition_gain_dataset\": 0.0, \"realistic_rule_gain_dataset\": 0.0}}, {\"stable\": [{\"attribute\": \"Age\", \"value\": \"Y\"}, {\"attribute\": \"Sex\", \"value\": \"F\"}], \"flexible\": [{\"attribute\": \"Class\", \"undesired\": \"2\", \"desired\": \"1\"}], \"target\": {\"attribute\": \"Survived\", \"undesired\": \"0\", \"desired\": \"1\"}, \"support of undesired part\": 1, \"confidence of undesired part\": 1.0, \"support of desired part\": 2, \"confidence of desired part\": 1.0, \"uplift\": 0.14285714285714285, \"support\": 1, \"confidence\": 1.0, \"utility\": {\"undesired_rule_utility\": 0.0, \"desired_rule_utility\": 0.0, \"rule_utility_difference\": 0.0, \"transition_gain\": 0.0, \"rule_utility_gain\": 0.0, \"realistic_undesired_utility\": 0.0, \"realistic_desired_utility\": 0.0, \"realistic_rule_difference\": 0.0, \"transition_gain_dataset\": 0.0, \"realistic_rule_gain_dataset\": 0.0}}, {\"stable\": [{\"attribute\": \"Age\", \"value\": \"Y\"}, {\"attribute\": \"Sex\", \"value\": \"M\"}], \"flexible\": [{\"attribute\": \"Embarked\", \"undesired\": \"C\", \"desired\": \"S\"}], \"target\": {\"attribute\": \"Survived\", \"undesired\": \"0\", \"desired\": \"1\"}, \"support of undesired part\": 1, \"confidence of undesired part\": 1.0, \"support of desired part\": 1, \"confidence of desired part\": 1.0, \"uplift\": 0.14285714285714285, \"support\": 1, \"confidence\": 1.0, \"utility\": {\"undesired_rule_utility\": 0.0, \"desired_rule_utility\": 0.0, \"rule_utility_difference\": 0.0, \"transition_gain\": 0.0, \"rule_utility_gain\": 0.0, \"realistic_undesired_utility\": 0.0, \"realistic_desired_utility\": 0.0, \"realistic_rule_difference\": 0.0, \"transition_gain_dataset\": 0.0, \"realistic_rule_gain_dataset\": 0.0}}, {\"stable\": [{\"attribute\": \"Age\", \"value\": \"Y\"}, {\"attribute\": \"Sex\", \"value\": \"M\"}], \"flexible\": [{\"attribute\": \"Class\", \"undesired\": \"2\", \"desired\": \"1\"}], \"target\": {\"attribute\": \"Survived\", \"undesired\": \"0\", \"desired\": \"1\"}, \"support of undesired part\": 1, \"confidence of undesired part\": 1.0, \"support of desired part\": 1, \"confidence of desired part\": 1.0, \"uplift\": 0.14285714285714285, \"support\": 1, \"confidence\": 1.0, \"utility\": {\"undesired_rule_utility\": 0.0, \"desired_rule_utility\": 0.0, \"rule_utility_difference\": 0.0, \"transition_gain\": 0.0, \"rule_utility_gain\": 0.0, \"realistic_undesired_utility\": 0.0, \"realistic_desired_utility\": 0.0, \"realistic_rule_difference\": 0.0, \"transition_gain_dataset\": 0.0, \"realistic_rule_gain_dataset\": 0.0}}, {\"stable\": [{\"attribute\": \"Age\", \"value\": \"O\"}, {\"attribute\": \"Sex\", \"value\": \"M\"}], \"flexible\": [{\"attribute\": \"Embarked\", \"undesired\": \"S\", \"desired\": \"C\"}, {\"attribute\": \"Class\", \"undesired\": \"2\", \"desired\": \"1\"}], \"target\": {\"attribute\": \"Survived\", \"undesired\": \"0\", \"desired\": \"1\"}, \"support of undesired part\": 1, \"confidence of undesired part\": 1.0, \"support of desired part\": 1, \"confidence of desired part\": 1.0, \"uplift\": 0.14285714285714285, \"support\": 1, \"confidence\": 1.0, \"utility\": {\"undesired_rule_utility\": 0.0, \"desired_rule_utility\": 0.0, \"rule_utility_difference\": 0.0, \"transition_gain\": 0.0, \"rule_utility_gain\": 0.0, \"realistic_undesired_utility\": 0.0, \"realistic_desired_utility\": 0.0, \"realistic_rule_difference\": 0.0, \"transition_gain_dataset\": 0.0, \"realistic_rule_gain_dataset\": 0.0}}, {\"stable\": [{\"attribute\": \"Age\", \"value\": \"Y\"}, {\"attribute\": \"Sex\", \"value\": \"F\"}, {\"attribute\": \"Embarked\", \"value\": \"C\", \"flexible_as_stable\": true}], \"flexible\": [{\"attribute\": \"Class\", \"undesired\": \"2\", \"desired\": \"1\"}], \"target\": {\"attribute\": \"Survived\", \"undesired\": \"0\", \"desired\": \"1\"}, \"support of undesired part\": 1, \"confidence of undesired part\": 1.0, \"support of desired part\": 1, \"confidence of desired part\": 1.0, \"uplift\": 0.14285714285714285, \"support\": 1, \"confidence\": 1.0, \"utility\": {\"undesired_rule_utility\": 0.0, \"desired_rule_utility\": 0.0, \"rule_utility_difference\": 0.0, \"transition_gain\": 0.0, \"rule_utility_gain\": 0.0, \"realistic_undesired_utility\": 0.0, \"realistic_desired_utility\": 0.0, \"realistic_rule_difference\": 0.0, \"transition_gain_dataset\": 0.0, \"realistic_rule_gain_dataset\": 0.0}}, {\"stable\": [{\"attribute\": \"Age\", \"value\": \"Y\"}, {\"attribute\": \"Sex\", \"value\": \"F\"}], \"flexible\": [{\"attribute\": \"Embarked\", \"undesired\": \"C\", \"desired\": \"S\"}, {\"attribute\": \"Class\", \"undesired\": \"2\", \"desired\": \"1\"}], \"target\": {\"attribute\": \"Survived\", \"undesired\": \"0\", \"desired\": \"1\"}, \"support of undesired part\": 1, \"confidence of undesired part\": 1.0, \"support of desired part\": 1, \"confidence of desired part\": 1.0, \"uplift\": 0.14285714285714285, \"support\": 1, \"confidence\": 1.0, \"utility\": {\"undesired_rule_utility\": 0.0, \"desired_rule_utility\": 0.0, \"rule_utility_difference\": 0.0, \"transition_gain\": 0.0, \"rule_utility_gain\": 0.0, \"realistic_undesired_utility\": 0.0, \"realistic_desired_utility\": 0.0, \"realistic_rule_difference\": 0.0, \"transition_gain_dataset\": 0.0, \"realistic_rule_gain_dataset\": 0.0}}, {\"stable\": [{\"attribute\": \"Age\", \"value\": \"Y\"}, {\"attribute\": \"Sex\", \"value\": \"M\"}], \"flexible\": [{\"attribute\": \"Embarked\", \"undesired\": \"C\", \"desired\": \"S\"}, {\"attribute\": \"Class\", \"undesired\": \"2\", \"desired\": \"1\"}], \"target\": {\"attribute\": \"Survived\", \"undesired\": \"0\", \"desired\": \"1\"}, \"support of undesired part\": 1, \"confidence of undesired part\": 1.0, \"support of desired part\": 1, \"confidence of desired part\": 1.0, \"uplift\": 0.14285714285714285, \"support\": 1, \"confidence\": 1.0, \"utility\": {\"undesired_rule_utility\": 0.0, \"desired_rule_utility\": 0.0, \"rule_utility_difference\": 0.0, \"transition_gain\": 0.0, \"rule_utility_gain\": 0.0, \"realistic_undesired_utility\": 0.0, \"realistic_desired_utility\": 0.0, \"realistic_rule_difference\": 0.0, \"transition_gain_dataset\": 0.0, \"realistic_rule_gain_dataset\": 0.0}}]\n"
     ]
    }
   ],
   "execution_count": 8
  },
  {
   "cell_type": "markdown",
   "id": "c87bb1ae66d087de",
   "metadata": {},
   "source": [
    "## CLI"
   ]
  },
  {
   "cell_type": "code",
   "id": "ff5d912a-e23f-4905-ad80-d143e58643ba",
   "metadata": {
    "ExecuteTime": {
     "end_time": "2025-03-01T19:10:55.789031Z",
     "start_time": "2025-03-01T19:10:55.774897Z"
    }
   },
   "source": [
    "data.to_csv('data.csv')"
   ],
   "outputs": [],
   "execution_count": 9
  },
  {
   "cell_type": "markdown",
   "id": "a1037b65a0b2de6b",
   "metadata": {},
   "source": [
    "### Help"
   ]
  },
  {
   "cell_type": "code",
   "id": "65e8f52d-bef2-4eb2-8c60-492d396433c2",
   "metadata": {
    "ExecuteTime": {
     "end_time": "2025-03-01T19:10:58.626421Z",
     "start_time": "2025-03-01T19:10:58.043675Z"
    }
   },
   "source": [
    "! action-rules --help"
   ],
   "outputs": [
    {
     "name": "stdout",
     "output_type": "stream",
     "text": [
      "Usage: action-rules [OPTIONS]\r\n",
      "\r\n",
      "  CLI.\r\n",
      "\r\n",
      "  Decompose a single action rule into two rules, r1 and r2: one representing\r\n",
      "  the state before (undesired part) and the other after the intervention\r\n",
      "  (desired part): r1 -> r2.\r\n",
      "\r\n",
      "  Parameters ---------- min_stable_attributes : int     Minimum number of\r\n",
      "  stable attributes required. min_flexible_attributes : int     Minimum number\r\n",
      "  of flexible attributes required. min_undesired_support : int     Minimum\r\n",
      "  support for the undesired state. min_undesired_confidence : float\r\n",
      "  Minimum confidence for the undesired state. min_desired_support : int\r\n",
      "  Minimum support for the desired state. min_desired_confidence : float\r\n",
      "  Minimum confidence for the desired state. csv_path : BinaryIO     Path to\r\n",
      "  the CSV file containing the dataset. stable_attributes : str     Comma-\r\n",
      "  separated list of stable attributes. flexible_attributes : str     Comma-\r\n",
      "  separated list of flexible attributes. target : str     Target attribute for\r\n",
      "  the action rule. undesired_state : str     The undesired state of the target\r\n",
      "  attribute. desired_state : str     The desired state of the target\r\n",
      "  attribute. output_json_path : BinaryIO     Path to the output JSON file\r\n",
      "  where the results will be saved. use_gpu : bool     Use GPU (cuDF) for data\r\n",
      "  processing if available.\r\n",
      "\r\n",
      "  Returns ------- None\r\n",
      "\r\n",
      "Options:\r\n",
      "  --min_stable_attributes INTEGER\r\n",
      "                                  Minimum number of stable attributes.\r\n",
      "  --min_flexible_attributes INTEGER\r\n",
      "                                  Minimum number of flexible attributes. Must\r\n",
      "                                  be at least 1.\r\n",
      "  --min_undesired_support INTEGER\r\n",
      "                                  Support of the undesired part of the rule.\r\n",
      "                                  Number of instances matching all conditions\r\n",
      "                                  in the antecedent and consequent of r1.\r\n",
      "  --min_undesired_confidence FLOAT\r\n",
      "                                  Confidence of the undesired part of the\r\n",
      "                                  rule. Number of instances matching all\r\n",
      "                                  conditions in the antecedent and consequent\r\n",
      "                                  of r1 divided by number of instances\r\n",
      "                                  matching all conditions in the antecedent of\r\n",
      "                                  r1.\r\n",
      "  --min_desired_support INTEGER   Support of the desired part of the rule.\r\n",
      "                                  Number of instances matching all conditions\r\n",
      "                                  in the antecedent and consequent of r2.\r\n",
      "  --min_desired_confidence FLOAT  Confidence of the desired part of the rule.\r\n",
      "                                  Number of instances matching all conditions\r\n",
      "                                  in the antecedent and consequent of r2\r\n",
      "                                  divided by number of instances matching all\r\n",
      "                                  conditions in the antecedent of r2.\r\n",
      "  --csv_path FILENAME             Dataset where the first row is the header. A\r\n",
      "                                  comma is used as a separator.\r\n",
      "  --stable_attributes TEXT        These attributes remain unchanged regardless\r\n",
      "                                  of the actions described by the rule.\r\n",
      "  --flexible_attributes TEXT      These are the attributes that can change.\r\n",
      "  --target TEXT                   This is the outcome attribute that the\r\n",
      "                                  action rule aims to influence.\r\n",
      "  --undesired_state TEXT          The undesired state of a target is the\r\n",
      "                                  current or starting state that you want to\r\n",
      "                                  change or improve. It represents a negative\r\n",
      "                                  or less preferred outcome.\r\n",
      "  --desired_state TEXT            The desired state of a target is goal state\r\n",
      "                                  that you want to achieve as a result of\r\n",
      "                                  applying the action rule. It represents a\r\n",
      "                                  positive or preferred outcome.\r\n",
      "  --output_json_path FILENAME     Action Rules (JSON representation).\r\n",
      "  --use_gpu BOOLEAN               Use GPU (cuDF) for data processing if\r\n",
      "                                  available.\r\n",
      "  --help                          Show this message and exit.\r\n"
     ]
    }
   ],
   "execution_count": 10
  },
  {
   "cell_type": "markdown",
   "id": "8b5bdefd-fef8-49f5-bfde-1101e4bc4fec",
   "metadata": {},
   "source": [
    "### Command"
   ]
  },
  {
   "cell_type": "code",
   "id": "02025696-79e9-419c-a6f3-44f484383656",
   "metadata": {
    "ExecuteTime": {
     "end_time": "2025-03-01T19:11:05.980484Z",
     "start_time": "2025-03-01T19:11:05.414704Z"
    }
   },
   "source": [
    "! action-rules \\\n",
    "--min_stable_attributes 2 \\\n",
    "--min_flexible_attributes 1 \\\n",
    "--min_undesired_support 1 \\\n",
    "--min_undesired_confidence 0.5 \\\n",
    "--min_desired_support 1 \\\n",
    "--min_desired_confidence 0.5 \\\n",
    "--csv_path \"data.csv\" \\\n",
    "--stable_attributes \"Sex, Age\" \\\n",
    "--flexible_attributes \"Class, Embarked\" \\\n",
    "--target \"Survived\" \\\n",
    "--undesired_state \"0\" \\\n",
    "--desired_state \"1\" \\\n",
    "--output_json_path \"output.json\" \\\n",
    "--use_gpu 0"
   ],
   "outputs": [
    {
     "name": "stdout",
     "output_type": "stream",
     "text": [
      "action-rules\r\n",
      "============\r\n",
      "The package for action rules mining using Action-Apriori (Apriori Modified for Action Rules Mining).\r\n",
      "Done.\r\n"
     ]
    }
   ],
   "execution_count": 11
  },
  {
   "cell_type": "markdown",
   "id": "bfdc1488-de57-4592-bdf6-fc572b3e61b9",
   "metadata": {},
   "source": [
    "## Import Rules"
   ]
  },
  {
   "metadata": {
    "ExecuteTime": {
     "end_time": "2025-03-01T19:11:19.239141Z",
     "start_time": "2025-03-01T19:11:19.234152Z"
    }
   },
   "cell_type": "code",
   "source": [
    "from action_rules.input import Input\n",
    "\n",
    "input_rules = Input()\n",
    "output = input_rules.import_action_rules(export)\n",
    "for action_rule in output.get_ar_notation():\n",
    "    print(action_rule)"
   ],
   "id": "3addb7719ee983e7",
   "outputs": [
    {
     "name": "stdout",
     "output_type": "stream",
     "text": [
      "[(Age: O) ∧ (Sex: M) ∧ (Embarked: S → C)] ⇒ [Survived: 0 → 1], support of undesired part: 1, confidence of undesired part: 1.0, support of desired part: 1, confidence of desired part: 1.0, support: 1, confidence: 1.0, uplift: 0.14285714285714285\n",
      "[(Age: O) ∧ (Sex: M) ∧ (Class: 2 → 1)] ⇒ [Survived: 0 → 1], support of undesired part: 1, confidence of undesired part: 1.0, support of desired part: 1, confidence of desired part: 1.0, support: 1, confidence: 1.0, uplift: 0.14285714285714285\n",
      "[(Age: Y) ∧ (Sex: F) ∧ (Embarked*: C)] ⇒ [Survived: 0 → 1], support of undesired part: 1, confidence of undesired part: 0.5, support of desired part: 1, confidence of desired part: 0.5, support: 1, confidence: 0.25, uplift: 0.0\n",
      "[(Age: Y) ∧ (Sex: F) ∧ (Embarked: C → S)] ⇒ [Survived: 0 → 1], support of undesired part: 1, confidence of undesired part: 0.5, support of desired part: 1, confidence of desired part: 1.0, support: 1, confidence: 0.5, uplift: 0.14285714285714285\n",
      "[(Age: Y) ∧ (Sex: F) ∧ (Class: 2 → 1)] ⇒ [Survived: 0 → 1], support of undesired part: 1, confidence of undesired part: 1.0, support of desired part: 2, confidence of desired part: 1.0, support: 1, confidence: 1.0, uplift: 0.14285714285714285\n",
      "[(Age: Y) ∧ (Sex: M) ∧ (Embarked: C → S)] ⇒ [Survived: 0 → 1], support of undesired part: 1, confidence of undesired part: 1.0, support of desired part: 1, confidence of desired part: 1.0, support: 1, confidence: 1.0, uplift: 0.14285714285714285\n",
      "[(Age: Y) ∧ (Sex: M) ∧ (Class: 2 → 1)] ⇒ [Survived: 0 → 1], support of undesired part: 1, confidence of undesired part: 1.0, support of desired part: 1, confidence of desired part: 1.0, support: 1, confidence: 1.0, uplift: 0.14285714285714285\n",
      "[(Age: O) ∧ (Sex: M) ∧ (Embarked: S → C) ∧ (Class: 2 → 1)] ⇒ [Survived: 0 → 1], support of undesired part: 1, confidence of undesired part: 1.0, support of desired part: 1, confidence of desired part: 1.0, support: 1, confidence: 1.0, uplift: 0.14285714285714285\n",
      "[(Age: Y) ∧ (Sex: F) ∧ (Embarked*: C) ∧ (Class: 2 → 1)] ⇒ [Survived: 0 → 1], support of undesired part: 1, confidence of undesired part: 1.0, support of desired part: 1, confidence of desired part: 1.0, support: 1, confidence: 1.0, uplift: 0.14285714285714285\n",
      "[(Age: Y) ∧ (Sex: F) ∧ (Embarked: C → S) ∧ (Class: 2 → 1)] ⇒ [Survived: 0 → 1], support of undesired part: 1, confidence of undesired part: 1.0, support of desired part: 1, confidence of desired part: 1.0, support: 1, confidence: 1.0, uplift: 0.14285714285714285\n",
      "[(Age: Y) ∧ (Sex: M) ∧ (Embarked: C → S) ∧ (Class: 2 → 1)] ⇒ [Survived: 0 → 1], support of undesired part: 1, confidence of undesired part: 1.0, support of desired part: 1, confidence of desired part: 1.0, support: 1, confidence: 1.0, uplift: 0.14285714285714285\n"
     ]
    }
   ],
   "execution_count": 13
  },
  {
   "metadata": {},
   "cell_type": "code",
   "outputs": [],
   "execution_count": null,
   "source": "",
   "id": "a4d921a5ce02f4d0"
  }
 ],
 "metadata": {
  "kernelspec": {
   "display_name": "Python 3 (ipykernel)",
   "language": "python",
   "name": "python3"
  },
  "language_info": {
   "codemirror_mode": {
    "name": "ipython",
    "version": 3
   },
   "file_extension": ".py",
   "mimetype": "text/x-python",
   "name": "python",
   "nbconvert_exporter": "python",
   "pygments_lexer": "ipython3",
   "version": "3.12.3"
  }
 },
 "nbformat": 4,
 "nbformat_minor": 5
}
